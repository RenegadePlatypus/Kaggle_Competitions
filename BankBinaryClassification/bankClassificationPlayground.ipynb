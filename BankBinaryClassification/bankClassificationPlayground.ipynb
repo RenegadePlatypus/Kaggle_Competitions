{
  "metadata": {
    "kernelspec": {
      "language": "python",
      "display_name": "Python 3",
      "name": "python3"
    },
    "language_info": {
      "name": "python",
      "version": "3.11.13",
      "mimetype": "text/x-python",
      "codemirror_mode": {
        "name": "ipython",
        "version": 3
      },
      "pygments_lexer": "ipython3",
      "nbconvert_exporter": "python",
      "file_extension": ".py"
    },
    "kaggle": {
      "accelerator": "none",
      "dataSources": [
        {
          "sourceId": 91719,
          "databundleVersionId": 12937777,
          "sourceType": "competition"
        }
      ],
      "dockerImageVersionId": 31089,
      "isInternetEnabled": true,
      "language": "python",
      "sourceType": "notebook",
      "isGpuEnabled": false
    },
    "colab": {
      "provenance": []
    }
  },
  "nbformat_minor": 0,
  "nbformat": 4,
  "cells": [
    {
      "cell_type": "markdown",
      "source": [
        "# Imports"
      ],
      "metadata": {
        "id": "kRZHbVSOXj8i"
      }
    },
    {
      "source": [
        "# IMPORTANT: SOME KAGGLE DATA SOURCES ARE PRIVATE\n",
        "# RUN THIS CELL IN ORDER TO IMPORT YOUR KAGGLE DATA SOURCES.\n",
        "import kagglehub\n",
        "kagglehub.login()\n"
      ],
      "metadata": {
        "id": "A0i7hVHpr7oq"
      },
      "cell_type": "code",
      "outputs": [],
      "execution_count": null
    },
    {
      "source": [
        "# IMPORTANT: RUN THIS CELL IN ORDER TO IMPORT YOUR KAGGLE DATA SOURCES,\n",
        "# THEN FEEL FREE TO DELETE THIS CELL.\n",
        "# NOTE: THIS NOTEBOOK ENVIRONMENT DIFFERS FROM KAGGLE'S PYTHON\n",
        "# ENVIRONMENT SO THERE MAY BE MISSING LIBRARIES USED BY YOUR\n",
        "# NOTEBOOK.\n",
        "\n",
        "playground_series_s5e8_path = kagglehub.competition_download('playground-series-s5e8')\n",
        "\n",
        "print('Data source import complete.')\n"
      ],
      "metadata": {
        "id": "SfAbfj0Dr7ot"
      },
      "cell_type": "code",
      "outputs": [],
      "execution_count": null
    },
    {
      "cell_type": "code",
      "source": [
        "import os\n",
        "\n",
        "cwd = os.getcwd()\n",
        "print(cwd)"
      ],
      "metadata": {
        "id": "Vr3imoPes3jh"
      },
      "execution_count": null,
      "outputs": []
    },
    {
      "cell_type": "code",
      "source": [
        "playground_series_s5e8_path"
      ],
      "metadata": {
        "id": "YPLCTSN_tMln"
      },
      "execution_count": null,
      "outputs": []
    },
    {
      "cell_type": "code",
      "source": [
        "# This Python 3 environment comes with many helpful analytics libraries installed\n",
        "# It is defined by the kaggle/python Docker image: https://github.com/kaggle/docker-python\n",
        "# For example, here's several helpful packages to load\n",
        "\n",
        "import numpy as np # linear algebra\n",
        "import pandas as pd # data processing, CSV file I/O (e.g. pd.read_csv)\n",
        "\n",
        "# Input data files are available in the read-only \"../input/\" directory\n",
        "# For example, running this (by clicking run or pressing Shift+Enter) will list all files under the input directory\n",
        "\n",
        "import os\n",
        "for dirname, _, filenames in os.walk('/root/.cache/kagglehub/competitions/playground-series-s5e8'):\n",
        "    for filename in filenames:\n",
        "        print(os.path.join(dirname, filename))\n",
        "\n",
        "# You can write up to 20GB to the current directory (/kaggle/working/) that gets preserved as output when you create a version using \"Save & Run All\"\n",
        "# You can also write temporary files to /kaggle/temp/, but they won't be saved outside of the current session"
      ],
      "metadata": {
        "_uuid": "8f2839f25d086af736a60e9eeb907d3b93b6e0e5",
        "_cell_guid": "b1076dfc-b9ad-4769-8c92-a6c4dae69d19",
        "trusted": true,
        "execution": {
          "iopub.status.busy": "2025-08-09T13:16:17.260939Z",
          "iopub.execute_input": "2025-08-09T13:16:17.261255Z",
          "iopub.status.idle": "2025-08-09T13:16:19.700257Z",
          "shell.execute_reply.started": "2025-08-09T13:16:17.261232Z",
          "shell.execute_reply": "2025-08-09T13:16:19.699271Z"
        },
        "id": "n1j-pJ0Sr7ot"
      },
      "outputs": [],
      "execution_count": null
    },
    {
      "cell_type": "code",
      "source": [
        "train_data = pd.read_csv(f'{playground_series_s5e8_path}/train.csv')\n",
        "test_data = pd.read_csv(f'{playground_series_s5e8_path}/test.csv')\n",
        "\n",
        "train_data.head()"
      ],
      "metadata": {
        "trusted": true,
        "execution": {
          "iopub.status.busy": "2025-08-09T13:16:19.701259Z",
          "iopub.execute_input": "2025-08-09T13:16:19.702146Z",
          "iopub.status.idle": "2025-08-09T13:16:23.393445Z",
          "shell.execute_reply.started": "2025-08-09T13:16:19.702111Z",
          "shell.execute_reply": "2025-08-09T13:16:23.392311Z"
        },
        "id": "OCviB64rr7ou"
      },
      "outputs": [],
      "execution_count": null
    },
    {
      "cell_type": "code",
      "source": [
        "test_data.head()"
      ],
      "metadata": {
        "trusted": true,
        "execution": {
          "iopub.status.busy": "2025-08-09T13:16:23.395964Z",
          "iopub.execute_input": "2025-08-09T13:16:23.396338Z",
          "iopub.status.idle": "2025-08-09T13:16:23.411358Z",
          "shell.execute_reply.started": "2025-08-09T13:16:23.396312Z",
          "shell.execute_reply": "2025-08-09T13:16:23.41004Z"
        },
        "id": "T7YOTmbdr7ou"
      },
      "outputs": [],
      "execution_count": null
    },
    {
      "cell_type": "code",
      "source": [
        "train_data.to_csv('binary_train.csv', index=False)\n",
        "test_data.to_csv('binary_test.csv', index=False)"
      ],
      "metadata": {
        "id": "ZcBnlctdOiiQ"
      },
      "execution_count": null,
      "outputs": []
    },
    {
      "cell_type": "code",
      "source": [
        "train_data.info()"
      ],
      "metadata": {
        "trusted": true,
        "execution": {
          "iopub.status.busy": "2025-08-09T13:16:23.412764Z",
          "iopub.execute_input": "2025-08-09T13:16:23.413087Z",
          "iopub.status.idle": "2025-08-09T13:16:23.849797Z",
          "shell.execute_reply.started": "2025-08-09T13:16:23.413037Z",
          "shell.execute_reply": "2025-08-09T13:16:23.848613Z"
        },
        "id": "tZckrWYnr7ou"
      },
      "outputs": [],
      "execution_count": null
    },
    {
      "cell_type": "code",
      "source": [
        "test_data.info()"
      ],
      "metadata": {
        "trusted": true,
        "execution": {
          "iopub.status.busy": "2025-08-09T13:16:23.850925Z",
          "iopub.execute_input": "2025-08-09T13:16:23.851367Z",
          "iopub.status.idle": "2025-08-09T13:16:23.993221Z",
          "shell.execute_reply.started": "2025-08-09T13:16:23.851325Z",
          "shell.execute_reply": "2025-08-09T13:16:23.991841Z"
        },
        "id": "ucA9qKnUr7ou"
      },
      "outputs": [],
      "execution_count": null
    },
    {
      "cell_type": "code",
      "source": [
        "explosion_tracker = 0\n",
        "categorical_columns = []\n",
        "for column in train_data.columns:\n",
        "    if train_data[column].dtype == 'object' or train_data[column].dtype.name == 'category':\n",
        "        print(f'{column} is a categorical column')\n",
        "        distinct_values = train_data[column].nunique()\n",
        "        explosion_tracker += distinct_values\n",
        "        categorical_columns.append(column)\n",
        "        print(f'Distinct column values are: {distinct_values}')\n",
        "        print('********************************************************************************')\n",
        "\n",
        "print(f'Total columns after one hot encoding will be : {explosion_tracker} + numerical columns')"
      ],
      "metadata": {
        "trusted": true,
        "execution": {
          "iopub.status.busy": "2025-08-09T13:44:16.618852Z",
          "iopub.execute_input": "2025-08-09T13:44:16.61919Z",
          "iopub.status.idle": "2025-08-09T13:44:16.964206Z",
          "shell.execute_reply.started": "2025-08-09T13:44:16.619163Z",
          "shell.execute_reply": "2025-08-09T13:44:16.963493Z"
        },
        "id": "E_jO1Yg1r7ov"
      },
      "outputs": [],
      "execution_count": null
    },
    {
      "cell_type": "markdown",
      "source": [
        "## Performing One Hot Encoding"
      ],
      "metadata": {
        "id": "ywb2h6yTr7ov"
      }
    },
    {
      "cell_type": "code",
      "source": [
        "input_columns = train_data.columns[1:]\n",
        "output_columns = train_data.columns[17]\n",
        "\n",
        "input_columns, output_columns"
      ],
      "metadata": {
        "trusted": true,
        "execution": {
          "iopub.status.busy": "2025-08-09T13:50:09.055583Z",
          "iopub.execute_input": "2025-08-09T13:50:09.056Z",
          "iopub.status.idle": "2025-08-09T13:50:09.067947Z",
          "shell.execute_reply.started": "2025-08-09T13:50:09.055965Z",
          "shell.execute_reply": "2025-08-09T13:50:09.065653Z"
        },
        "id": "r1TMJWyUr7ow"
      },
      "outputs": [],
      "execution_count": null
    },
    {
      "cell_type": "code",
      "source": [
        "train_full = train_data[input_columns]\n",
        "trainY = train_data[output_columns]\n",
        "\n",
        "train_full.shape, trainY.shape"
      ],
      "metadata": {
        "trusted": true,
        "execution": {
          "iopub.status.busy": "2025-08-09T13:51:58.518955Z",
          "iopub.execute_input": "2025-08-09T13:51:58.519336Z",
          "iopub.status.idle": "2025-08-09T13:51:58.581247Z",
          "shell.execute_reply.started": "2025-08-09T13:51:58.519309Z",
          "shell.execute_reply": "2025-08-09T13:51:58.580383Z"
        },
        "id": "4DgHFdQ_r7ow"
      },
      "outputs": [],
      "execution_count": null
    },
    {
      "cell_type": "code",
      "source": [
        "train_full = pd.get_dummies(train_full, columns=categorical_columns, dtype=int)\n",
        "train_full.shape"
      ],
      "metadata": {
        "trusted": true,
        "execution": {
          "iopub.status.busy": "2025-08-09T13:51:59.063025Z",
          "iopub.execute_input": "2025-08-09T13:51:59.065216Z",
          "iopub.status.idle": "2025-08-09T13:52:00.002823Z",
          "shell.execute_reply.started": "2025-08-09T13:51:59.065153Z",
          "shell.execute_reply": "2025-08-09T13:52:00.001762Z"
        },
        "id": "VbPApYeir7ox"
      },
      "outputs": [],
      "execution_count": null
    },
    {
      "cell_type": "code",
      "source": [
        "train_full.head()"
      ],
      "metadata": {
        "trusted": true,
        "execution": {
          "iopub.status.busy": "2025-08-09T13:52:01.620336Z",
          "iopub.execute_input": "2025-08-09T13:52:01.620641Z",
          "iopub.status.idle": "2025-08-09T13:52:01.638786Z",
          "shell.execute_reply.started": "2025-08-09T13:52:01.620618Z",
          "shell.execute_reply": "2025-08-09T13:52:01.637716Z"
        },
        "id": "wYzuBcXjr7ox"
      },
      "outputs": [],
      "execution_count": null
    },
    {
      "cell_type": "markdown",
      "source": [
        "## Visualizing Correlation Matrix"
      ],
      "metadata": {
        "id": "3xttG6shr7ox"
      }
    },
    {
      "cell_type": "code",
      "source": [
        "train_full['y'].value_counts()"
      ],
      "metadata": {
        "id": "wvEEbhuNtfw_"
      },
      "execution_count": null,
      "outputs": []
    },
    {
      "cell_type": "code",
      "source": [
        "import seaborn as sns\n",
        "import matplotlib.pyplot as plt\n",
        "\n",
        "corr_matrix = train_full.corr(numeric_only=True)\n",
        "# target_corr = corr_matrix['y'].sort_values(ascending=False)\n",
        "\n",
        "\n",
        "# plt.figure(figsize=(8,6))\n",
        "# sns.heatmap(corr_matrix, annot=True, cmap='coolwarm', fmt=\".2f\")\n",
        "# plt.show()"
      ],
      "metadata": {
        "trusted": true,
        "execution": {
          "iopub.status.busy": "2025-08-09T14:16:23.009867Z",
          "iopub.execute_input": "2025-08-09T14:16:23.010233Z",
          "iopub.status.idle": "2025-08-09T14:16:29.204419Z",
          "shell.execute_reply.started": "2025-08-09T14:16:23.010207Z",
          "shell.execute_reply": "2025-08-09T14:16:29.203125Z"
        },
        "id": "fgH2nHcbr7ox"
      },
      "outputs": [],
      "execution_count": null
    },
    {
      "cell_type": "code",
      "source": [
        "target_corr = corr_matrix['y'].sort_values(ascending=False)\n",
        "target_corr, type(target_corr)"
      ],
      "metadata": {
        "trusted": true,
        "execution": {
          "iopub.status.busy": "2025-08-09T14:16:29.206Z",
          "iopub.execute_input": "2025-08-09T14:16:29.206399Z",
          "iopub.status.idle": "2025-08-09T14:16:29.216814Z",
          "shell.execute_reply.started": "2025-08-09T14:16:29.206373Z",
          "shell.execute_reply": "2025-08-09T14:16:29.215193Z"
        },
        "id": "vPiYhkisr7oy"
      },
      "outputs": [],
      "execution_count": null
    },
    {
      "cell_type": "code",
      "source": [
        "target_corr.drop('y').plot(kind='bar', color='skyblue')\n",
        "plt.title('Correlation of Features with Target')\n",
        "plt.ylabel('Correlation Coefficient')\n",
        "plt.ylim(-1, 1)\n",
        "plt.grid(axis='y', linestyle='--', alpha=0.7)\n",
        "plt.show()"
      ],
      "metadata": {
        "trusted": true,
        "execution": {
          "iopub.status.busy": "2025-08-09T14:16:29.218014Z",
          "iopub.execute_input": "2025-08-09T14:16:29.218783Z",
          "iopub.status.idle": "2025-08-09T14:16:29.714929Z",
          "shell.execute_reply.started": "2025-08-09T14:16:29.218741Z",
          "shell.execute_reply": "2025-08-09T14:16:29.713945Z"
        },
        "id": "X1w3bXv7r7oy"
      },
      "outputs": [],
      "execution_count": null
    },
    {
      "cell_type": "code",
      "source": [
        "#Filtering out columns based on threshold\n",
        "threshold = 0.05\n",
        "selected_features = target_corr[target_corr > threshold].index.tolist()\n",
        "selected_features.remove('y')\n",
        "selected_features"
      ],
      "metadata": {
        "trusted": true,
        "execution": {
          "iopub.status.busy": "2025-08-09T14:16:33.475329Z",
          "iopub.execute_input": "2025-08-09T14:16:33.475667Z",
          "iopub.status.idle": "2025-08-09T14:16:33.483512Z",
          "shell.execute_reply.started": "2025-08-09T14:16:33.475641Z",
          "shell.execute_reply": "2025-08-09T14:16:33.482584Z"
        },
        "id": "CJ4E2iMBr7oy"
      },
      "outputs": [],
      "execution_count": null
    },
    {
      "cell_type": "markdown",
      "source": [
        "# Logistic Regression"
      ],
      "metadata": {
        "id": "ETJQzjGAyfpK"
      }
    },
    {
      "cell_type": "markdown",
      "source": [
        "## Oversampling y=1 class"
      ],
      "metadata": {
        "id": "sApSoWXLyx1g"
      }
    },
    {
      "cell_type": "code",
      "source": [
        "# Oversampling minority class\n",
        "from sklearn.utils import resample\n",
        "\n",
        "majority = train_full[train_full.y == 0]\n",
        "minority = train_full[train_full.y == 1]\n",
        "minority_oversampled = resample(minority, replace=True, n_samples=len(majority), random_state=42)\n",
        "df_balanced = pd.concat([majority, minority_oversampled])\n"
      ],
      "metadata": {
        "id": "hz5UxWHtyyNM"
      },
      "execution_count": null,
      "outputs": []
    },
    {
      "cell_type": "code",
      "source": [
        "df_balanced.y.value_counts()"
      ],
      "metadata": {
        "id": "rv7Sezv5zZsE"
      },
      "execution_count": null,
      "outputs": []
    },
    {
      "cell_type": "code",
      "source": [
        "## Logistic Regression\n",
        "import pandas as pd\n",
        "import seaborn as sns\n",
        "import matplotlib.pyplot as plt\n",
        "from sklearn.linear_model import LogisticRegression\n",
        "from sklearn.model_selection import train_test_split\n",
        "from sklearn.metrics import accuracy_score, classification_report\n",
        "from sklearn.utils import resample\n",
        "from sklearn.preprocessing import StandardScaler\n",
        "\n",
        "# 6. Logistic Regression on selected features\n",
        "X = df_balanced[selected_features]\n",
        "y = df_balanced['y']\n",
        "\n",
        "#Standard Scaling\n",
        "scaler = StandardScaler()\n",
        "X_scaled = scaler.fit_transform(X)\n",
        "\n",
        "# Train-test split\n",
        "X_train, X_test, y_train, y_test = train_test_split(X_scaled, y, test_size=0.3, random_state=42)\n",
        "\n",
        "# Model training\n",
        "model = LogisticRegression(class_weight='balanced', max_iter=1000, solver='lbfgs')\n",
        "model.fit(X_train, y_train)\n",
        "\n",
        "# Predictions\n",
        "y_pred = model.predict(X_test)\n",
        "\n",
        "# Evaluation\n",
        "print(\"\\nAccuracy:\", accuracy_score(y_test, y_pred))\n",
        "print(\"Classification Report:\\n\", classification_report(y_test, y_pred))\n"
      ],
      "metadata": {
        "trusted": true,
        "id": "XV2hsqOBr7oy"
      },
      "outputs": [],
      "execution_count": null
    },
    {
      "cell_type": "markdown",
      "source": [
        "# Predicting Output"
      ],
      "metadata": {
        "id": "1sF5J0uF5SeS"
      }
    },
    {
      "cell_type": "code",
      "source": [
        "test_data_full = pd.get_dummies(test_data, columns=categorical_columns, dtype=int)\n",
        "selected_features.append('id')\n",
        "test_full = test_data_full[selected_features]\n",
        "test_full.shape"
      ],
      "metadata": {
        "id": "FldW4KRE1eqU"
      },
      "execution_count": null,
      "outputs": []
    },
    {
      "cell_type": "code",
      "source": [
        "selected_features.remove('id')\n",
        "test_full.shape"
      ],
      "metadata": {
        "id": "aSNbnMhx7vpp"
      },
      "execution_count": null,
      "outputs": []
    },
    {
      "cell_type": "code",
      "source": [
        "test_scaled = scaler.transform(test_full[selected_features])\n",
        "test_full['y'] = model.predict(test_scaled)\n",
        "\n",
        "test_full.head()"
      ],
      "metadata": {
        "id": "m0O0oq9B6H3H"
      },
      "execution_count": null,
      "outputs": []
    },
    {
      "cell_type": "code",
      "source": [
        "test_full[['id','y']].to_csv('submission.csv', index=False)"
      ],
      "metadata": {
        "id": "Dl0Gby4I69Rg"
      },
      "execution_count": null,
      "outputs": []
    },
    {
      "cell_type": "code",
      "source": [],
      "metadata": {
        "id": "UioOMEAbSdNO"
      },
      "execution_count": null,
      "outputs": []
    }
  ]
}